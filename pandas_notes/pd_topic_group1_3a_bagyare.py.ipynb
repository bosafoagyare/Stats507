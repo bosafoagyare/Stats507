{
 "cells": [
  {
   "cell_type": "markdown",
   "id": "f675a09b",
   "metadata": {},
   "source": [
    "## Topics in Pandas\n",
    "**Stats 507, Fall 2021** "
   ]
  },
  {
   "cell_type": "markdown",
   "id": "2163ec24",
   "metadata": {},
   "source": [
    "## Contents\n",
    "+ [Pandas Table Visualization](#Pandas-Table-Visualization)\n",
    "+ [Sorting in Python Pandas](#Sorting-in-Python-Pandas)\n",
    "+ [Python Classes and Objects](#Python-Classes-and-Objects)"
   ]
  },
  {
   "cell_type": "markdown",
   "id": "4513195d",
   "metadata": {},
   "source": [
    "## Pandas Table Visualization\n",
    "**Author:** Cheng Chun, Chien  \n",
    "**Email:**　jimchien@umich.edu  \n",
    "[PS6](https://jbhender.github.io/Stats507/F21/ps/ps6.html)"
   ]
  },
  {
   "cell_type": "markdown",
   "id": "24e76b4a",
   "metadata": {},
   "source": [
    "## Introduction\n",
    "- The slide shows visualization of tabular data using the ***Styler*** class\n",
    "- The ***Styler*** creates an HTML table and leverages CSS styling language to control parameters including colors, fonts, borders, background, etc.\n",
    "- Following contents will be introduced.\n",
    "    1. Formatting Values\n",
    "    2. Table Styles\n",
    "    3. Bulitin Styles"
   ]
  },
  {
   "cell_type": "markdown",
   "id": "cf8b96c9",
   "metadata": {},
   "source": [
    "## Formatting Values\n",
    "- Styler can distinguish the ***display*** and ***actual*** value\n",
    "- To control the display value, use the *.format()* method to manipulate this according to a format spec string or a callable that takes a single value and returns a string.\n",
    "- Functions of *.format()*\n",
    "    - *precision*: formatting floats\n",
    "    - *decimal / thousands*: support other locales\n",
    "    - *na_rep*: display missing data\n",
    "    - *escape*: displaying safe-HTML or safe-LaTeX"
   ]
  },
  {
   "cell_type": "markdown",
   "id": "21de22ae",
   "metadata": {},
   "source": [
    "## Table Styles\n",
    "- Recommend to be used for broad styling, such as entire rows or columns at a time.\n",
    "- 3 primary methods of adding custom CSS styles\n",
    "    - *.set_table_styles()*: control broader areas of the table with specified internal CSS. Cannot be exported to Excel.\n",
    "    - *.set_td_classes()*: link external CSS classes to data cells. Cannot be exported to Excel.\n",
    "    - *.apply() and .applymap()*: add direct internal CSS to specific data cells. Can export to Excel.\n",
    "- Also used to control features applying to the whole table by generic hover functionality, *:hover*.\n",
    "- List of dicts is the format to pass styles to .set_table_styles()."
   ]
  },
  {
   "cell_type": "markdown",
   "id": "1d6426e8",
   "metadata": {},
   "source": [
    "## Builtin Styles\n",
    "- *.highlight_null*: identifying missing data.\n",
    "- *.highlight_min / .highlight_max*: identifying extremeties in data.\n",
    "- *.background_gradient*: highlighting cells based or their, or other, values on a numeric scale.\n",
    "- *.text_gradient*: highlighting text based on their, or other, values on a numeric scale.\n",
    "- *.bar*: displaying mini-charts within cell backgrounds."
   ]
  },
  {
   "cell_type": "code",
   "execution_count": 11,
   "id": "9a631f18",
   "metadata": {},
   "outputs": [
    {
     "data": {
      "text/html": [
       "<style  type=\"text/css\" >\n",
       "#T_9bcc5_row0_col0{\n",
       "            width:  10em;\n",
       "             height:  80%;\n",
       "            background:  linear-gradient(90deg,#d65f5f 94.7%, transparent 94.7%);\n",
       "        }#T_9bcc5_row0_col1{\n",
       "            width:  10em;\n",
       "             height:  80%;\n",
       "            background:  linear-gradient(90deg,#d65f5f 99.2%, transparent 99.2%);\n",
       "        }#T_9bcc5_row1_col0,#T_9bcc5_row2_col1{\n",
       "            width:  10em;\n",
       "             height:  80%;\n",
       "            background:  linear-gradient(90deg,#d65f5f 100.0%, transparent 100.0%);\n",
       "        }#T_9bcc5_row1_col1,#T_9bcc5_row2_col0{\n",
       "            width:  10em;\n",
       "             height:  80%;\n",
       "        }#T_9bcc5_row3_col0{\n",
       "            width:  10em;\n",
       "             height:  80%;\n",
       "            background:  linear-gradient(90deg,#d65f5f 43.9%, transparent 43.9%);\n",
       "        }#T_9bcc5_row3_col1{\n",
       "            width:  10em;\n",
       "             height:  80%;\n",
       "            background:  linear-gradient(90deg,#d65f5f 79.2%, transparent 79.2%);\n",
       "        }#T_9bcc5_row4_col0{\n",
       "            width:  10em;\n",
       "             height:  80%;\n",
       "            background:  linear-gradient(90deg,#d65f5f 81.0%, transparent 81.0%);\n",
       "        }#T_9bcc5_row4_col1{\n",
       "            width:  10em;\n",
       "             height:  80%;\n",
       "            background:  linear-gradient(90deg,#d65f5f 55.6%, transparent 55.6%);\n",
       "        }</style><table id=\"T_9bcc5_\" ><thead>    <tr>        <th class=\"blank level0\" ></th>        <th class=\"col_heading level0 col0\" >A</th>        <th class=\"col_heading level0 col1\" >B</th>        <th class=\"col_heading level0 col2\" >C</th>        <th class=\"col_heading level0 col3\" >D</th>    </tr></thead><tbody>\n",
       "                <tr>\n",
       "                        <th id=\"T_9bcc5_level0_row0\" class=\"row_heading level0 row0\" >0</th>\n",
       "                        <td id=\"T_9bcc5_row0_col0\" class=\"data row0 col0\" >1.764052</td>\n",
       "                        <td id=\"T_9bcc5_row0_col1\" class=\"data row0 col1\" >0.400157</td>\n",
       "                        <td id=\"T_9bcc5_row0_col2\" class=\"data row0 col2\" >0.978738</td>\n",
       "                        <td id=\"T_9bcc5_row0_col3\" class=\"data row0 col3\" >2.240893</td>\n",
       "            </tr>\n",
       "            <tr>\n",
       "                        <th id=\"T_9bcc5_level0_row1\" class=\"row_heading level0 row1\" >1</th>\n",
       "                        <td id=\"T_9bcc5_row1_col0\" class=\"data row1 col0\" >1.867558</td>\n",
       "                        <td id=\"T_9bcc5_row1_col1\" class=\"data row1 col1\" >-0.977278</td>\n",
       "                        <td id=\"T_9bcc5_row1_col2\" class=\"data row1 col2\" >0.950088</td>\n",
       "                        <td id=\"T_9bcc5_row1_col3\" class=\"data row1 col3\" >-0.151357</td>\n",
       "            </tr>\n",
       "            <tr>\n",
       "                        <th id=\"T_9bcc5_level0_row2\" class=\"row_heading level0 row2\" >2</th>\n",
       "                        <td id=\"T_9bcc5_row2_col0\" class=\"data row2 col0\" >-0.103219</td>\n",
       "                        <td id=\"T_9bcc5_row2_col1\" class=\"data row2 col1\" >0.410599</td>\n",
       "                        <td id=\"T_9bcc5_row2_col2\" class=\"data row2 col2\" >0.144044</td>\n",
       "                        <td id=\"T_9bcc5_row2_col3\" class=\"data row2 col3\" >1.454274</td>\n",
       "            </tr>\n",
       "            <tr>\n",
       "                        <th id=\"T_9bcc5_level0_row3\" class=\"row_heading level0 row3\" >3</th>\n",
       "                        <td id=\"T_9bcc5_row3_col0\" class=\"data row3 col0\" >0.761038</td>\n",
       "                        <td id=\"T_9bcc5_row3_col1\" class=\"data row3 col1\" >0.121675</td>\n",
       "                        <td id=\"T_9bcc5_row3_col2\" class=\"data row3 col2\" >0.443863</td>\n",
       "                        <td id=\"T_9bcc5_row3_col3\" class=\"data row3 col3\" >0.333674</td>\n",
       "            </tr>\n",
       "            <tr>\n",
       "                        <th id=\"T_9bcc5_level0_row4\" class=\"row_heading level0 row4\" >4</th>\n",
       "                        <td id=\"T_9bcc5_row4_col0\" class=\"data row4 col0\" >1.494079</td>\n",
       "                        <td id=\"T_9bcc5_row4_col1\" class=\"data row4 col1\" >-0.205158</td>\n",
       "                        <td id=\"T_9bcc5_row4_col2\" class=\"data row4 col2\" >0.313068</td>\n",
       "                        <td id=\"T_9bcc5_row4_col3\" class=\"data row4 col3\" >-0.854096</td>\n",
       "            </tr>\n",
       "    </tbody></table>"
      ],
      "text/plain": [
       "<pandas.io.formats.style.Styler at 0x7fde3ac20250>"
      ]
     },
     "execution_count": 11,
     "metadata": {},
     "output_type": "execute_result"
    }
   ],
   "source": [
    "import numpy as np\n",
    "import pandas as pd\n",
    "# Example of table bar chart\n",
    "np.random.seed(0)\n",
    "df = pd.DataFrame(np.random.randn(5,4), columns=['A','B','C','D'])\n",
    "df.style.bar(subset=['A', 'B'], color='#d65f5f')"
   ]
  },
  {
   "cell_type": "markdown",
   "id": "82d791bf",
   "metadata": {},
   "source": [
    "---\n",
    "---\n"
   ]
  },
  {
   "cell_type": "markdown",
   "id": "c0be8630",
   "metadata": {},
   "source": [
    "## Sorting in Python Pandas\n",
    "**Author:** Nuona Chen  \n",
    "**Email:** nuona@umich.edu "
   ]
  },
  {
   "cell_type": "markdown",
   "id": "e6541571",
   "metadata": {},
   "source": [
    " <h3>DataFrame.sort_values()</h3>\n",
    "\n",
    "\n",
    "\n",
    " <h2>DataFrame.sort_values()</h2>\n",
    " <h3>General Form</h3>\n",
    " <li>DataFrame.sort_values(by, axis=0, ascending=True, inplace=False, kind='quicksort', na_position='last', ignore_index=False, key=None)</li>\n",
    " \n",
    " <h3>What it does</h3>\n",
    " <li>sorts the input DataFrame by values</hi>\n",
    " \n",
    " <h3>Input Parameters</h3>\n",
    "  <li>by: name or list of names to sort by</li>\n",
    "   <li>axis: 0 -> sort indices, 1 -> sort columns </li>\n",
    "   <li>ascending: true -> sort ascending, false -> sort descending</li>\n",
    "   <li>inplace: true -> sort in-place </li>\n",
    "   <li>kind: sorting algorithm </li>\n",
    "   <li>na_position: first -> put NaNs at the beginning, last -> put NaNs at the end</li>\n",
    "   <li>ignore_index: true -> label axis as 0, 1,..., n-1</li>\n",
    " \n",
    " <h3>Function Output</h3>\n",
    " <li>The sorted Pandas DataFrame</li>\n",
    " <h4>Reference: https://pandas.pydata.org/pandas-docs/stable/reference/api/pandas.DataFrame.sort_values.html</h4>"
   ]
  },
  {
   "cell_type": "code",
   "execution_count": 12,
   "id": "5a6fd8e5",
   "metadata": {},
   "outputs": [
    {
     "data": {
      "text/html": [
       "<h2>Example1 - Sort by Columns</h2>"
      ],
      "text/plain": [
       "<IPython.core.display.HTML object>"
      ]
     },
     "metadata": {},
     "output_type": "display_data"
    },
    {
     "name": "stdout",
     "output_type": "stream",
     "text": [
      "Input DataFrame - ie_data: \n",
      "   id  gpa  total credit hours             major\n",
      "0   1  3.2                  55        Statistics\n",
      "1   2  3.7                  68      Anthropology\n",
      "2   3  3.1                 100          Business\n",
      "3   4  3.0                  94  Computer Science\n",
      "4   5  3.7                  46          Business\n",
      "5   6  3.7                 110        Statistics\n"
     ]
    },
    {
     "data": {
      "text/html": [
       "<h3>Sort by gpa in an ascending order</h3>"
      ],
      "text/plain": [
       "<IPython.core.display.HTML object>"
      ]
     },
     "metadata": {},
     "output_type": "display_data"
    },
    {
     "data": {
      "text/html": [
       "<code>ie_data.sort_values(by='gpa', ascending=True)</code>"
      ],
      "text/plain": [
       "<IPython.core.display.HTML object>"
      ]
     },
     "metadata": {},
     "output_type": "display_data"
    },
    {
     "name": "stdout",
     "output_type": "stream",
     "text": [
      "   id  gpa  total credit hours             major\n",
      "3   4  3.0                  94  Computer Science\n",
      "2   3  3.1                 100          Business\n",
      "0   1  3.2                  55        Statistics\n",
      "1   2  3.7                  68      Anthropology\n",
      "4   5  3.7                  46          Business\n",
      "5   6  3.7                 110        Statistics\n"
     ]
    },
    {
     "data": {
      "text/html": [
       "<h3>Sort by gpa and major in an descending order</h3>"
      ],
      "text/plain": [
       "<IPython.core.display.HTML object>"
      ]
     },
     "metadata": {},
     "output_type": "display_data"
    },
    {
     "data": {
      "text/html": [
       "<code>ie_data.sort_values(by=['gpa', 'major'], ascending=[False, True])</code>"
      ],
      "text/plain": [
       "<IPython.core.display.HTML object>"
      ]
     },
     "metadata": {},
     "output_type": "display_data"
    },
    {
     "name": "stdout",
     "output_type": "stream",
     "text": [
      "   id  gpa  total credit hours             major\n",
      "1   2  3.7                  68      Anthropology\n",
      "4   5  3.7                  46          Business\n",
      "5   6  3.7                 110        Statistics\n",
      "0   1  3.2                  55        Statistics\n",
      "2   3  3.1                 100          Business\n",
      "3   4  3.0                  94  Computer Science\n"
     ]
    },
    {
     "data": {
      "text/html": [
       "<p>The order of variables in the by statement is the order of sorting. Major is sorted after gpa is sorted.</p>"
      ],
      "text/plain": [
       "<IPython.core.display.HTML object>"
      ]
     },
     "metadata": {},
     "output_type": "display_data"
    },
    {
     "data": {
      "text/html": [
       "<h2>Example2 - Sort by Rows</h2>"
      ],
      "text/plain": [
       "<IPython.core.display.HTML object>"
      ]
     },
     "metadata": {},
     "output_type": "display_data"
    },
    {
     "name": "stdout",
     "output_type": "stream",
     "text": [
      "Input DataFrame - ie_data: \n",
      "   id  gpa  total credit hours\n",
      "0   1  3.2                  55\n",
      "1   2  3.7                  68\n",
      "2   3  3.1                 100\n",
      "3   4  3.0                  94\n",
      "4   5  3.7                  46\n",
      "5   6  3.7                 110\n"
     ]
    },
    {
     "data": {
      "text/html": [
       "<h3>Sort by the row with index = 4 in an descending order</h3>"
      ],
      "text/plain": [
       "<IPython.core.display.HTML object>"
      ]
     },
     "metadata": {},
     "output_type": "display_data"
    },
    {
     "data": {
      "text/html": [
       "<code>ie_data.sort_values(by=4, axis=1, ascending=False)</code>"
      ],
      "text/plain": [
       "<IPython.core.display.HTML object>"
      ]
     },
     "metadata": {},
     "output_type": "display_data"
    },
    {
     "data": {
      "text/html": [
       "<div>\n",
       "<style scoped>\n",
       "    .dataframe tbody tr th:only-of-type {\n",
       "        vertical-align: middle;\n",
       "    }\n",
       "\n",
       "    .dataframe tbody tr th {\n",
       "        vertical-align: top;\n",
       "    }\n",
       "\n",
       "    .dataframe thead th {\n",
       "        text-align: right;\n",
       "    }\n",
       "</style>\n",
       "<table border=\"1\" class=\"dataframe\">\n",
       "  <thead>\n",
       "    <tr style=\"text-align: right;\">\n",
       "      <th></th>\n",
       "      <th>total credit hours</th>\n",
       "      <th>id</th>\n",
       "      <th>gpa</th>\n",
       "    </tr>\n",
       "  </thead>\n",
       "  <tbody>\n",
       "    <tr>\n",
       "      <th>0</th>\n",
       "      <td>55</td>\n",
       "      <td>1</td>\n",
       "      <td>3.2</td>\n",
       "    </tr>\n",
       "    <tr>\n",
       "      <th>1</th>\n",
       "      <td>68</td>\n",
       "      <td>2</td>\n",
       "      <td>3.7</td>\n",
       "    </tr>\n",
       "    <tr>\n",
       "      <th>2</th>\n",
       "      <td>100</td>\n",
       "      <td>3</td>\n",
       "      <td>3.1</td>\n",
       "    </tr>\n",
       "    <tr>\n",
       "      <th>3</th>\n",
       "      <td>94</td>\n",
       "      <td>4</td>\n",
       "      <td>3.0</td>\n",
       "    </tr>\n",
       "    <tr>\n",
       "      <th>4</th>\n",
       "      <td>46</td>\n",
       "      <td>5</td>\n",
       "      <td>3.7</td>\n",
       "    </tr>\n",
       "    <tr>\n",
       "      <th>5</th>\n",
       "      <td>110</td>\n",
       "      <td>6</td>\n",
       "      <td>3.7</td>\n",
       "    </tr>\n",
       "  </tbody>\n",
       "</table>\n",
       "</div>"
      ],
      "text/plain": [
       "   total credit hours  id  gpa\n",
       "0                  55   1  3.2\n",
       "1                  68   2  3.7\n",
       "2                 100   3  3.1\n",
       "3                  94   4  3.0\n",
       "4                  46   5  3.7\n",
       "5                 110   6  3.7"
      ]
     },
     "execution_count": 12,
     "metadata": {},
     "output_type": "execute_result"
    }
   ],
   "source": [
    "from IPython.core.display import HTML, display\n",
    "display(HTML('<h2>Example1 - Sort by Columns</h2>'))\n",
    "\n",
    "data = {\"id\": [1, 2, 3, 4, 5, 6],\n",
    "        \"gpa\": [3.2, 3.7, 3.1, 3.0, 3.7, 3.7],\n",
    "        \"total credit hours\": [55, 68, 100, 94, 46, 110],\n",
    "        \"major\": [\"Statistics\", \"Anthropology\", \"Business\", \"Computer Science\", \"Business\", \"Statistics\"]}\n",
    "print(\"Input DataFrame - ie_data: \")\n",
    "ie_data = pd.DataFrame(data)\n",
    "print(ie_data)\n",
    "\n",
    "display(HTML('<h3>Sort by gpa in an ascending order</h3>'))\n",
    "display(HTML(\"<code>ie_data.sort_values(by='gpa', ascending=True)</code>\"))\n",
    "\n",
    "print(ie_data.sort_values(by=\"gpa\", ascending=True))\n",
    "\n",
    "display(HTML('<h3>Sort by gpa and major in an descending order</h3>'))\n",
    "display(HTML(\"<code>ie_data.sort_values(by=['gpa', 'major'], ascending=[False, True])</code>\"))\n",
    "\n",
    "print(ie_data.sort_values(by=[\"gpa\", \"major\"], ascending=[False, True]))\n",
    "display(HTML('<p>The order of variables in the by statement is the order of sorting. Major is sorted after gpa is sorted.</p>'))\n",
    "\n",
    "display(HTML('<h2>Example2 - Sort by Rows</h2>'))\n",
    "\n",
    "del ie_data[\"major\"]\n",
    "print(\"Input DataFrame - ie_data: \")\n",
    "print(ie_data)\n",
    "display(HTML('<h3>Sort by the row with index = 4 in an descending order</h3>'))\n",
    "display(HTML(\"<code>ie_data.sort_values(by=4, axis=1, ascending=False)</code>\"))\n",
    "\n",
    "ie_data.sort_values(by=4, axis=1, ascending=False)"
   ]
  },
  {
   "cell_type": "markdown",
   "id": "ceb1bd0b",
   "metadata": {},
   "source": [
    "---\n",
    "---\n"
   ]
  },
  {
   "cell_type": "markdown",
   "id": "42a130d2",
   "metadata": {},
   "source": [
    "## Python Classes and Objects\n",
    "\n",
    "**Name:** Benjamin Osafo Agyare  \n",
    "**UM email:** bagyare@umich.edu  \n"
   ]
  },
  {
   "cell_type": "markdown",
   "id": "18e3e372",
   "metadata": {},
   "source": [
    "## Overview\n",
    "  - [Python classes](#Python-classes)\n",
    "  - [Creating a Class data](#Creating-a-Class)\n",
    "  - [The __init__() Function](#The-__init__()-Function)\n",
    "  - [Object Methods and the self operator](#Object-Methods-and-the-self-operator)\n",
    "  - [Modifying and Deleting objects](#Modifying-and-Deleting-objects)"
   ]
  },
  {
   "cell_type": "markdown",
   "id": "e8f38278",
   "metadata": {},
   "source": [
    "## Python classes\n",
    "- Python is an object oriented programming language.\n",
    "- Almost everything in Python is an object, with its properties and methods.\n",
    "- A Class is like an object constructor, or a \"blueprint\" for creating objects."
   ]
  },
  {
   "cell_type": "markdown",
   "id": "39910e5a",
   "metadata": {},
   "source": [
    "## Python classes\n",
    "- Some points on Python class:\n",
    "  + Classes are created by keyword class.\n",
    "  + Attributes are the variables that belong to a class.\n",
    "  + Attributes are always public and can be accessed using the dot (.) operator. Eg.: Myclass.Myattribute"
   ]
  },
  {
   "cell_type": "markdown",
   "id": "b61a07f8",
   "metadata": {},
   "source": [
    "## Creating a Class\n",
    "- To create a class in python, use the reserved keyword `class`\n",
    "\n",
    "### Example\n",
    "- Here is an example of creating a class named Student, with properties name, school and year:"
   ]
  },
  {
   "cell_type": "code",
   "execution_count": 13,
   "id": "b67a331e",
   "metadata": {},
   "outputs": [],
   "source": [
    "class Student:\n",
    "    school = \"U of Michigan\"\n",
    "    year = \"freshman\""
   ]
  },
  {
   "cell_type": "markdown",
   "id": "794a3e3a",
   "metadata": {},
   "source": [
    "## The __init__() Function\n",
    "\n",
    "- To make better meaning of classes we need the built-in `__init__()` function.\n",
    "- The `__init__()` is used function to assign values to object properties, or other operations that are necessary to do when the object is being created.\n",
    "- All classes have this, which is always executed when the class is being initiated."
   ]
  },
  {
   "cell_type": "code",
   "execution_count": 14,
   "id": "c8924346",
   "metadata": {},
   "outputs": [
    {
     "name": "stdout",
     "output_type": "stream",
     "text": [
      "Ben\n",
      "University of Michigan\n",
      "freshman\n"
     ]
    }
   ],
   "source": [
    "class Student:\n",
    "    def __init__(self, name, school, year):\n",
    "        self.name = name\n",
    "        self.school = school\n",
    "        self.year = year\n",
    "\n",
    "person1 = Student(\"Ben\", \"University of Michigan\", \"freshman\")\n",
    "print(person1.name)\n",
    "print(person1.school)\n",
    "print(person1.year)"
   ]
  },
  {
   "cell_type": "markdown",
   "id": "0c12df89",
   "metadata": {},
   "source": [
    "## Object Methods and the self operator\n",
    "- Objects in python can also have methods which are functions that belong to the object"
   ]
  },
  {
   "cell_type": "markdown",
   "id": "b966d5c3",
   "metadata": {},
   "source": [
    "## Object Methods and the self operator\n",
    "- The self parameter\n",
    "  + The self parameter `self` in the example above references the current state of the class.\n",
    "  + It can be used to access the variables that belong to the class.\n",
    "  + You can call it whatever you like but has to be the first parameter of any function in a class"
   ]
  },
  {
   "cell_type": "markdown",
   "id": "960ca541",
   "metadata": {},
   "source": [
    "## Example"
   ]
  },
  {
   "cell_type": "code",
   "execution_count": 15,
   "id": "65719851",
   "metadata": {},
   "outputs": [
    {
     "name": "stdout",
     "output_type": "stream",
     "text": [
      "Hi, I'm Ben and a freshman at University of Michigan\n"
     ]
    }
   ],
   "source": [
    "class Student:\n",
    "    def __init__(myself, name, school, year):\n",
    "        myself.name = name\n",
    "        myself.school = school\n",
    "        myself.year = year\n",
    "\n",
    "    def getAttr(person):\n",
    "        print(\"Hi, I'm \" + person.name + \" and a \"\n",
    "              + person.year + \" at \" + person.school)\n",
    "\n",
    "\n",
    "person2 = Student(\"Ben\", \"University of Michigan\", \"freshman\")\n",
    "person2.getAttr()"
   ]
  },
  {
   "cell_type": "markdown",
   "id": "d5c6957f",
   "metadata": {},
   "source": [
    "## Modifying and Deleting objects\n",
    "- You can modify object properties\n",
    "- It is also possible to delete properties objects using the `del` keyword and same can be used to delete the object itself"
   ]
  },
  {
   "cell_type": "markdown",
   "id": "b80cff59",
   "metadata": {},
   "source": [
    "## Example"
   ]
  },
  {
   "cell_type": "code",
   "execution_count": 16,
   "id": "c3e744dc",
   "metadata": {},
   "outputs": [],
   "source": [
    "## Modify object properties\n",
    "person2.year = \"senior\"\n",
    "\n",
    "## Delete properties of objects\n",
    "del person2.name\n",
    "\n",
    "## Delete object\n",
    "del person2"
   ]
  },
  {
   "cell_type": "markdown",
   "id": "7a5d9859",
   "metadata": {},
   "source": [
    "## References:\n",
    "- [https://www.w3schools.com/python](https://www.w3schools.com/python)\n",
    "- [https://www.geeksforgeeks.org/python-classes-and-objects/](https://www.geeksforgeeks.org/python-classes-and-objects/)\n",
    "- [https://www.tutorialspoint.com/python3](https://www.tutorialspoint.com/python3)"
   ]
  },
  {
   "cell_type": "markdown",
   "id": "43538ed3",
   "metadata": {},
   "source": [
    "---\n",
    "---"
   ]
  },
  {
   "cell_type": "code",
   "execution_count": null,
   "id": "4fbb42c4",
   "metadata": {},
   "outputs": [],
   "source": []
  }
 ],
 "metadata": {
  "jupytext": {
   "encoding": "# -*- coding: utf-8 -*-",
   "formats": "ipynb,py:light"
  },
  "kernelspec": {
   "display_name": "Python 3",
   "language": "python",
   "name": "python3"
  },
  "language_info": {
   "codemirror_mode": {
    "name": "ipython",
    "version": 3
   },
   "file_extension": ".py",
   "mimetype": "text/x-python",
   "name": "python",
   "nbconvert_exporter": "python",
   "pygments_lexer": "ipython3",
   "version": "3.8.8"
  }
 },
 "nbformat": 4,
 "nbformat_minor": 5
}
