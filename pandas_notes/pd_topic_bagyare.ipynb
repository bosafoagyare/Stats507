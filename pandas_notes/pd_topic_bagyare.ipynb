{
 "cells": [
  {
   "cell_type": "markdown",
   "id": "bcd03195",
   "metadata": {},
   "source": [
    "**Name:** Benjamin Osafo Agyare  \n",
    "**UM email:** bagyare@umich.edu  \n",
    "**Topic:** Python Classes and Objects"
   ]
  },
  {
   "cell_type": "markdown",
   "id": "6e718720",
   "metadata": {},
   "source": [
    "# Python Classes and Objects"
   ]
  },
  {
   "cell_type": "markdown",
   "id": "446a12f2",
   "metadata": {},
   "source": [
    "## Overview\n",
    "  - [Python classes](#/slide-2-0)\n",
    "  - [Creating a Class data](#/slide-4-0)\n",
    "  - [The __init__() Function](#/slide-5-0)\n",
    "  - [Object Methods and the self operator](#/slide-6-0)\n",
    "  - [Modifying and Deleting objects](#/slide-8-0)"
   ]
  },
  {
   "cell_type": "markdown",
   "id": "529d85fe",
   "metadata": {},
   "source": [
    "## Python classes\n",
    "- Python is an object oriented programming language.\n",
    "- Almost everything in Python is an object, with its properties and methods.\n",
    "- A Class is like an object constructor, or a \"blueprint\" for creating objects."
   ]
  },
  {
   "cell_type": "markdown",
   "id": "3ba516d8",
   "metadata": {},
   "source": [
    "## Python classes\n",
    "- Some points on Python class:\n",
    "  + Classes are created by keyword class.\n",
    "  + Attributes are the variables that belong to a class.\n",
    "  + Attributes are always public and can be accessed using the dot (.) operator. Eg.: Myclass.Myattribute"
   ]
  },
  {
   "cell_type": "markdown",
   "id": "79787470",
   "metadata": {},
   "source": [
    "## Creating a Class\n",
    "- To create a class in python, use the reserved keyword `class`\n",
    "\n",
    "### Example\n",
    "- Here is an example of creating a class named Student, with properties name, school and year:"
   ]
  },
  {
   "cell_type": "code",
   "execution_count": 5,
   "id": "b1a9de76",
   "metadata": {},
   "outputs": [],
   "source": [
    "class Student:\n",
    "    school = \"U of Michigan\"\n",
    "    year = \"freshman\""
   ]
  },
  {
   "cell_type": "markdown",
   "id": "527eb70d",
   "metadata": {},
   "source": [
    "## The __init__() Function\n",
    "\n",
    "- To make better meaning of classes we need the built-in `__init__()` function.\n",
    "- The `__init__()` is used function to assign values to object properties, or other operations that are necessary to do when the object is being created.\n",
    "- All classes have this, which is always executed when the class is being initiated."
   ]
  },
  {
   "cell_type": "code",
   "execution_count": 6,
   "id": "b87e7a02",
   "metadata": {},
   "outputs": [
    {
     "name": "stdout",
     "output_type": "stream",
     "text": [
      "Ben\n",
      "University of Michigan\n",
      "freshman\n"
     ]
    }
   ],
   "source": [
    "class Student:\n",
    "    def __init__(self, name, school, year):\n",
    "        self.name = name\n",
    "        self.school = school\n",
    "        self.year = year\n",
    "\n",
    "person1 = Student(\"Ben\", \"University of Michigan\", \"freshman\")\n",
    "print(person1.name)\n",
    "print(person1.school)\n",
    "print(person1.year)"
   ]
  },
  {
   "cell_type": "markdown",
   "id": "53fa08d3",
   "metadata": {},
   "source": [
    "## Object Methods and the self operator\n",
    "- Objects in python can also have methods which are functions that belong to the object"
   ]
  },
  {
   "cell_type": "markdown",
   "id": "ad7bb2de",
   "metadata": {},
   "source": [
    "## Object Methods and the self operator\n",
    "- The self parameter\n",
    "  + The self parameter `self` in the example above references the current state of the class.\n",
    "  + It can be used to access the variables that belong to the class.\n",
    "  + You can call it whatever you like but has to be the first parameter of any function in a class"
   ]
  },
  {
   "cell_type": "markdown",
   "id": "8e65f055",
   "metadata": {},
   "source": [
    "## Example"
   ]
  },
  {
   "cell_type": "code",
   "execution_count": 7,
   "id": "c687cfff",
   "metadata": {},
   "outputs": [
    {
     "name": "stdout",
     "output_type": "stream",
     "text": [
      "Hi, I'm Ben and a freshman at University of Michigan\n"
     ]
    }
   ],
   "source": [
    "class Student:\n",
    "    def __init__(myself, name, school, year):\n",
    "        myself.name = name\n",
    "        myself.school = school\n",
    "        myself.year = year\n",
    "\n",
    "    def getAttr(person):\n",
    "        print(\"Hi, I'm \" + person.name + \" and a \"\n",
    "              + person.year + \" at \" + person.school)\n",
    "\n",
    "\n",
    "person2 = Student(\"Ben\", \"University of Michigan\", \"freshman\")\n",
    "person2.getAttr()"
   ]
  },
  {
   "cell_type": "markdown",
   "id": "bda6df82",
   "metadata": {},
   "source": [
    "## Modifying and Deleting objects\n",
    "- You can modify object properties\n",
    "- It is also possible to delete properties objects using the `del` keyword and same can be used to delete the object itself"
   ]
  },
  {
   "cell_type": "markdown",
   "id": "c1e17800",
   "metadata": {},
   "source": [
    "## Example"
   ]
  },
  {
   "cell_type": "code",
   "execution_count": 8,
   "id": "170b12d7",
   "metadata": {},
   "outputs": [],
   "source": [
    "## Modify object properties\n",
    "person2.year = \"senior\"\n",
    "\n",
    "## Delete properties of objects\n",
    "del person2.name\n",
    "\n",
    "## Delete object\n",
    "del person2"
   ]
  },
  {
   "cell_type": "markdown",
   "id": "d3c92ff6",
   "metadata": {},
   "source": [
    "## References:\n",
    "- [https://www.w3schools.com/python](https://www.w3schools.com/python)\n",
    "- [https://www.geeksforgeeks.org/python-classes-and-objects/](https://www.geeksforgeeks.org/python-classes-and-objects/)\n",
    "- [https://www.tutorialspoint.com/python3](https://www.tutorialspoint.com/python3)"
   ]
  }
 ],
 "metadata": {
  "jupytext": {
   "formats": "ipynb,py:light",
   "text_representation": {
    "extension": ".py",
    "format_name": "light",
    "format_version": "1.5",
    "jupytext_version": "1.12.0"
   }
  },
  "kernelspec": {
   "display_name": "Python 3",
   "language": "python",
   "name": "python3"
  },
  "language_info": {
   "codemirror_mode": {
    "name": "ipython",
    "version": 3
   },
   "file_extension": ".py",
   "mimetype": "text/x-python",
   "name": "python",
   "nbconvert_exporter": "python",
   "pygments_lexer": "ipython3",
   "version": "3.8.8"
  }
 },
 "nbformat": 4,
 "nbformat_minor": 5
}
